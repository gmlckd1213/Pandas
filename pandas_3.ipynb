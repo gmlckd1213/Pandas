{
 "cells": [
  {
   "cell_type": "markdown",
   "id": "0176105b",
   "metadata": {},
   "source": [
    "# Pandas 연산과 함수"
   ]
  },
  {
   "cell_type": "markdown",
   "id": "38a527b0",
   "metadata": {},
   "source": [
    "## 누락된 데이터 체크\n",
    "\n",
    "튜토리얼의 데이터와 다르게 현실 데이터는 일부 누락되어 있는 형태가 많음\n",
    "\n"
   ]
  },
  {
   "cell_type": "code",
   "execution_count": 2,
   "id": "5a2ce4b9",
   "metadata": {},
   "outputs": [
    {
     "name": "stdout",
     "output_type": "stream",
     "text": [
      "      이름     나이     주소   전화번호\n",
      "0  False  False  False  False\n",
      "1  False  False  False   True\n",
      "     이름    나이    주소   전화번호\n",
      "0  True  True  True   True\n",
      "1  True  True  True  False\n"
     ]
    }
   ],
   "source": [
    "import pandas as pd\n",
    "import numpy as np\n",
    "\n",
    "dataframe= pd.DataFrame(columns=['이름','나이','주소'])\n",
    "dataframe.loc[0] = ['임원균', '26', '서울']\n",
    "dataframe.loc[1] = {'이름':'철수', '나이':'25', '주소':'인천'}\n",
    "dataframe.loc[1, '이름'] = '영희'\n",
    "dataframe['전화번호'] = np.nan\n",
    "dataframe.loc[0,'전화번호']= '01045283518'\n",
    "print(dataframe.isnull())\n",
    "print(dataframe.notnull())\n"
   ]
  },
  {
   "cell_type": "markdown",
   "id": "8356b0cd",
   "metadata": {},
   "source": [
    "튜토리얼의 데이터와 다르게 현실 데이터는 일부 누락되어 있는 형태가 많음"
   ]
  },
  {
   "cell_type": "code",
   "execution_count": 3,
   "id": "07fd7ead",
   "metadata": {},
   "outputs": [
    {
     "data": {
      "text/html": [
       "<div>\n",
       "<style scoped>\n",
       "    .dataframe tbody tr th:only-of-type {\n",
       "        vertical-align: middle;\n",
       "    }\n",
       "\n",
       "    .dataframe tbody tr th {\n",
       "        vertical-align: top;\n",
       "    }\n",
       "\n",
       "    .dataframe thead th {\n",
       "        text-align: right;\n",
       "    }\n",
       "</style>\n",
       "<table border=\"1\" class=\"dataframe\">\n",
       "  <thead>\n",
       "    <tr style=\"text-align: right;\">\n",
       "      <th></th>\n",
       "      <th>이름</th>\n",
       "      <th>나이</th>\n",
       "      <th>주소</th>\n",
       "      <th>전화번호</th>\n",
       "    </tr>\n",
       "  </thead>\n",
       "  <tbody>\n",
       "    <tr>\n",
       "      <th>0</th>\n",
       "      <td>임원균</td>\n",
       "      <td>26</td>\n",
       "      <td>서울</td>\n",
       "      <td>01045283518</td>\n",
       "    </tr>\n",
       "    <tr>\n",
       "      <th>1</th>\n",
       "      <td>영희</td>\n",
       "      <td>25</td>\n",
       "      <td>인천</td>\n",
       "      <td>전화번호 없음</td>\n",
       "    </tr>\n",
       "  </tbody>\n",
       "</table>\n",
       "</div>"
      ],
      "text/plain": [
       "    이름  나이  주소         전화번호\n",
       "0  임원균  26  서울  01045283518\n",
       "1   영희  25  인천      전화번호 없음"
      ]
     },
     "execution_count": 3,
     "metadata": {},
     "output_type": "execute_result"
    }
   ],
   "source": [
    "dataframe.dropna()\n",
    "dataframe['전화번호'] = dataframe['전화번호'].fillna('전화번호 없음')\n",
    "dataframe"
   ]
  },
  {
   "cell_type": "markdown",
   "id": "620ae193",
   "metadata": {},
   "source": [
    "numpy array에서 사용했던 Series 연산자들을 동일하게 활용할 수 있음"
   ]
  },
  {
   "cell_type": "code",
   "execution_count": 4,
   "id": "cb01563c",
   "metadata": {},
   "outputs": [
    {
     "name": "stdout",
     "output_type": "stream",
     "text": [
      "0    NaN\n",
      "1    5.0\n",
      "2    9.0\n",
      "3    NaN\n",
      "dtype: float64\n",
      "0    2\n",
      "1    4\n",
      "2    6\n",
      "dtype: int64\n"
     ]
    }
   ],
   "source": [
    "A = pd.Series([2, 4, 6], index=[0, 1, 2])\n",
    "B = pd.Series([1, 3, 5], index=[1, 2, 3])\n",
    "print(A + B)\n",
    "A.add(B, fill_value=0)\n",
    "print(A)"
   ]
  },
  {
   "cell_type": "markdown",
   "id": "8ec84671",
   "metadata": {},
   "source": [
    "add(+), sub(-), mul(\\*), div(/)"
   ]
  },
  {
   "cell_type": "code",
   "execution_count": 5,
   "id": "bad82779",
   "metadata": {},
   "outputs": [
    {
     "name": "stdout",
     "output_type": "stream",
     "text": [
      "      A    B   C\n",
      "0   8.0  2.0 NaN\n",
      "1  13.0  7.0 NaN\n",
      "2   NaN  NaN NaN\n",
      "   A  B\n",
      "0  5  0\n",
      "1  6  0\n"
     ]
    }
   ],
   "source": [
    "A = pd.DataFrame(np.random.randint(0, 10, (2, 2)), columns=list(\"AB\"))\n",
    "B = pd.DataFrame(np.random.randint(0, 10, (3, 3)), columns=list(\"BAC\"))\n",
    "print(A + B)\n",
    "A.add(B, fill_value=0)\n",
    "print(A)"
   ]
  },
  {
   "cell_type": "code",
   "execution_count": 6,
   "id": "275a0f7e",
   "metadata": {},
   "outputs": [
    {
     "name": "stdout",
     "output_type": "stream",
     "text": [
      "A: \n",
      "   A  B\n",
      "0  0  0\n",
      "1  0  9 \n",
      "\n",
      "B: \n",
      "   B  A  C\n",
      "0  6  0  7\n",
      "1  5  4  7\n",
      "2  0  1  5 \n",
      "\n",
      "     A     B    C\n",
      "0  0.0   6.0  7.0\n",
      "1  4.0  14.0  7.0\n",
      "2  1.0   0.0  5.0\n"
     ]
    }
   ],
   "source": [
    "import numpy as np\n",
    "import pandas as pd\n",
    "\n",
    "\n",
    "print(\"A: \")\n",
    "A = pd.DataFrame(np.random.randint(0, 10, (2, 2)), columns=['A', 'B'])      #칼럼이 A, B입니다.\n",
    "print(A, \"\\n\")\n",
    "\n",
    "\n",
    "print(\"B: \")\n",
    "B = pd.DataFrame(np.random.randint(0, 10, (3, 3)), columns=['B', 'A', 'C'])     #칼럼이 B, A, C입니다.\n",
    "print(B, \"\\n\")\n",
    "\n",
    "\n",
    "# 아래에 다양한 연산을 자유롭게 적용해보세요.\n",
    "print(A.add(B,fill_value=0))\n"
   ]
  },
  {
   "cell_type": "markdown",
   "id": "10ab373b",
   "metadata": {},
   "source": [
    "집계함수"
   ]
  },
  {
   "cell_type": "code",
   "execution_count": 7,
   "id": "79c23a1c",
   "metadata": {},
   "outputs": [
    {
     "data": {
      "text/plain": [
       "A    6.000000\n",
       "B    1.666667\n",
       "dtype: float64"
      ]
     },
     "execution_count": 7,
     "metadata": {},
     "output_type": "execute_result"
    }
   ],
   "source": [
    "data ={\n",
    "    'A': [i+5 for i in range(3) ],\n",
    "    'B' : [i**2 for i in range(3)]\n",
    "}\n",
    "df = pd.DataFrame(data)\n",
    "df['A'].sum() \n",
    "df.sum()\n",
    "df.mean()"
   ]
  },
  {
   "cell_type": "markdown",
   "id": "390be1f6",
   "metadata": {},
   "source": [
    "# 값으로 정렬\n",
    "\n",
    "sort_values()"
   ]
  },
  {
   "cell_type": "code",
   "execution_count": 9,
   "id": "83d834f5",
   "metadata": {},
   "outputs": [
    {
     "data": {
      "text/html": [
       "<div>\n",
       "<style scoped>\n",
       "    .dataframe tbody tr th:only-of-type {\n",
       "        vertical-align: middle;\n",
       "    }\n",
       "\n",
       "    .dataframe tbody tr th {\n",
       "        vertical-align: top;\n",
       "    }\n",
       "\n",
       "    .dataframe thead th {\n",
       "        text-align: right;\n",
       "    }\n",
       "</style>\n",
       "<table border=\"1\" class=\"dataframe\">\n",
       "  <thead>\n",
       "    <tr style=\"text-align: right;\">\n",
       "      <th></th>\n",
       "      <th>col1</th>\n",
       "      <th>col2</th>\n",
       "      <th>col3</th>\n",
       "    </tr>\n",
       "  </thead>\n",
       "  <tbody>\n",
       "    <tr>\n",
       "      <th>0</th>\n",
       "      <td>2</td>\n",
       "      <td>A</td>\n",
       "      <td>0</td>\n",
       "    </tr>\n",
       "    <tr>\n",
       "      <th>1</th>\n",
       "      <td>1</td>\n",
       "      <td>A</td>\n",
       "      <td>1</td>\n",
       "    </tr>\n",
       "    <tr>\n",
       "      <th>2</th>\n",
       "      <td>9</td>\n",
       "      <td>B</td>\n",
       "      <td>9</td>\n",
       "    </tr>\n",
       "    <tr>\n",
       "      <th>3</th>\n",
       "      <td>8</td>\n",
       "      <td>NaN</td>\n",
       "      <td>4</td>\n",
       "    </tr>\n",
       "    <tr>\n",
       "      <th>4</th>\n",
       "      <td>7</td>\n",
       "      <td>D</td>\n",
       "      <td>2</td>\n",
       "    </tr>\n",
       "    <tr>\n",
       "      <th>5</th>\n",
       "      <td>4</td>\n",
       "      <td>C</td>\n",
       "      <td>3</td>\n",
       "    </tr>\n",
       "  </tbody>\n",
       "</table>\n",
       "</div>"
      ],
      "text/plain": [
       "   col1 col2  col3\n",
       "0     2    A     0\n",
       "1     1    A     1\n",
       "2     9    B     9\n",
       "3     8  NaN     4\n",
       "4     7    D     2\n",
       "5     4    C     3"
      ]
     },
     "execution_count": 9,
     "metadata": {},
     "output_type": "execute_result"
    }
   ],
   "source": [
    "df = pd.DataFrame({\n",
    "    'col1' : [2,1,9,8,7,4],\n",
    "    'col2' : ['A', 'A', 'B', np.nan, 'D', 'C'],\n",
    "    'col3' : [0, 1, 9, 4, 2, 3]\n",
    "})\n",
    "df"
   ]
  },
  {
   "cell_type": "code",
   "execution_count": 15,
   "id": "9921c0ee",
   "metadata": {},
   "outputs": [
    {
     "name": "stdout",
     "output_type": "stream",
     "text": [
      "   col1 col2  col3\n",
      "1     1    A     1\n",
      "0     2    A     0\n",
      "5     4    C     3\n",
      "4     7    D     2\n",
      "3     8  NaN     4\n",
      "2     9    B     9\n",
      "   col1 col2  col3\n",
      "2     9    B     9\n",
      "3     8  NaN     4\n",
      "4     7    D     2\n",
      "5     4    C     3\n",
      "0     2    A     0\n",
      "1     1    A     1\n",
      "   col1 col2  col3\n",
      "1     1    A     1\n",
      "0     2    A     0\n",
      "5     4    C     3\n",
      "4     7    D     2\n",
      "3     8  NaN     4\n",
      "2     9    B     9\n"
     ]
    }
   ],
   "source": [
    "print(df.sort_values('col1')) #오름차순\n",
    "print(df.sort_values('col1', ascending=False)) #내림차순\n",
    "print(df.sort_values(['col1','col2']))"
   ]
  },
  {
   "cell_type": "code",
   "execution_count": 16,
   "id": "35350403",
   "metadata": {},
   "outputs": [
    {
     "name": "stdout",
     "output_type": "stream",
     "text": [
      "DataFrame: \n",
      "   col1 col2  col3\n",
      "0     2    A     0\n",
      "1     1    A     1\n",
      "2     9    B     9\n",
      "3     8  NaN     4\n",
      "4     7    D     2\n",
      "5     4    C     3 \n",
      "\n",
      "   col1 col2  col3\n",
      "1     1    A     1\n",
      "0     2    A     0\n",
      "5     4    C     3\n",
      "4     7    D     2\n",
      "3     8  NaN     4\n",
      "2     9    B     9\n",
      "   col1 col2  col3\n",
      "4     7    D     2\n",
      "5     4    C     3\n",
      "2     9    B     9\n",
      "0     2    A     0\n",
      "1     1    A     1\n",
      "3     8  NaN     4\n",
      "   col1 col2  col3\n",
      "0     2    A     0\n",
      "1     1    A     1\n",
      "2     9    B     9\n",
      "5     4    C     3\n",
      "4     7    D     2\n",
      "3     8  NaN     4\n"
     ]
    }
   ],
   "source": [
    "import numpy as np\n",
    "import pandas as pd\n",
    "\n",
    "print(\"DataFrame: \")\n",
    "df = pd.DataFrame({\n",
    "    'col1' : [2, 1, 9, 8, 7, 4],\n",
    "    'col2' : ['A', 'A', 'B', np.nan, 'D', 'C'],\n",
    "    'col3': [0, 1, 9, 4, 2, 3],\n",
    "})\n",
    "print(df, \"\\n\")\n",
    "\n",
    "\n",
    "# 정렬 코드 입력해보기    \n",
    "# Q1. col1을 기준으로 오름차순으로 정렬하기.\n",
    "sorted_df1 = df.sort_values('col1', ascending=True)\n",
    "print(sorted_df1)\n",
    "\n",
    "# Q2. col2를 기준으로 내림차순으로 정렬하기.\n",
    "sorted_df2 = df.sort_values('col2', ascending=False)\n",
    "print(sorted_df2)\n",
    "\n",
    "\n",
    "# Q3. col2를 기준으로 오름차순으로, col1를 기준으로 내림차순으로 정렬하기.\n",
    "sorted_df3 = df.sort_values(['col2','col1'], ascending=[True,False])\n",
    "print(sorted_df3)"
   ]
  },
  {
   "cell_type": "code",
   "execution_count": null,
   "id": "bc7aad37",
   "metadata": {},
   "outputs": [],
   "source": []
  }
 ],
 "metadata": {
  "kernelspec": {
   "display_name": "Python 3 (ipykernel)",
   "language": "python",
   "name": "python3"
  },
  "language_info": {
   "codemirror_mode": {
    "name": "ipython",
    "version": 3
   },
   "file_extension": ".py",
   "mimetype": "text/x-python",
   "name": "python",
   "nbconvert_exporter": "python",
   "pygments_lexer": "ipython3",
   "version": "3.9.7"
  }
 },
 "nbformat": 4,
 "nbformat_minor": 5
}
