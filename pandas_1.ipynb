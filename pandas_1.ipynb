{
 "cells": [
  {
   "cell_type": "markdown",
   "id": "d0cac7d4",
   "metadata": {},
   "source": [
    "# Pandas\n",
    "\n",
    "- 파이썬 라이브러리\n",
    "- 구조화된 데이터를 효과적으로 처리하고 저장\n",
    "- Array계산에 특화된 NumPy를 기반으로 설계\n",
    "\n",
    "<br>\n",
    "\n",
    "## Series\n",
    "\n",
    "numpy array가 보강된 형태<br>\n",
    "Data와 Index를 가지고 있음"
   ]
  },
  {
   "cell_type": "code",
   "execution_count": 17,
   "id": "3d3e1344",
   "metadata": {},
   "outputs": [
    {
     "data": {
      "text/plain": [
       "2"
      ]
     },
     "execution_count": 17,
     "metadata": {},
     "output_type": "execute_result"
    }
   ],
   "source": [
    "# 인덱스를 가지고 있고 인덱스로 접근 가능\n",
    "import pandas as pd\n",
    "data = pd.Series([1,2,3,4], index=['a','b','c','d'])\n",
    "data['b']"
   ]
  },
  {
   "cell_type": "code",
   "execution_count": 22,
   "id": "e84dd409",
   "metadata": {},
   "outputs": [
    {
     "name": "stdout",
     "output_type": "stream",
     "text": [
      "a    1\n",
      "b    2\n",
      "c    5\n",
      "d    4\n",
      "Name: Title, dtype: int64\n"
     ]
    }
   ],
   "source": [
    "#name인자로 이름을 지정할 수 있음\n",
    "data = pd.Series([1,2,3,4], index=['a','b','c','d'], name=\"Title\")\n",
    "data['c'] = 5\n",
    "print(data)"
   ]
  },
  {
   "cell_type": "code",
   "execution_count": 25,
   "id": "efeb5a8d",
   "metadata": {},
   "outputs": [
    {
     "name": "stdout",
     "output_type": "stream",
     "text": [
      "korea      5180\n",
      "japan     12718\n",
      "china    141500\n",
      "usa       32676\n",
      "dtype: int64\n"
     ]
    }
   ],
   "source": [
    "#딕셔너리로 변환\n",
    "population_dict= {\n",
    "    'korea': 5180,\n",
    "    'japan': 12718,\n",
    "    'china': 141500,\n",
    "    'usa': 32676\n",
    "}\n",
    "population = pd.Series(population_dict)\n",
    "print(population)"
   ]
  },
  {
   "cell_type": "markdown",
   "id": "193462de",
   "metadata": {},
   "source": [
    "# DataFrame\n",
    "\n",
    "- 여러 개의 Series가 모여서 행과 열을 이룬 데이터\n",
    "- 딕셔너리로 변환할 수 있음\n",
    "- Series도 numpy array처럼 연산자를 활용\n",
    "- 데이터프레임을 저장\n",
    "\n",
    "```python\n",
    "country.to_excel(\"@@@.csv\")## 저장\n",
    "country.to_csv(\"@@@.csv\")#저장\n",
    "\n",
    "country=pd.read_csv(\"@@@.csv\")#읽기\n",
    "country=pd.read_excel(\"@@@.csv\")#읽기\n",
    "```\n"
   ]
  },
  {
   "cell_type": "code",
   "execution_count": 29,
   "id": "86848f71",
   "metadata": {},
   "outputs": [
    {
     "name": "stdout",
     "output_type": "stream",
     "text": [
      "Population series data:\n",
      "korea      5180\n",
      "japan     12718\n",
      "china    141500\n",
      "usa       32676\n",
      "dtype: int64 \n",
      "\n",
      "GDP series data:\n",
      "korea     169320000\n",
      "japan     516700000\n",
      "china    1409250000\n",
      "usa      2041280000\n",
      "dtype: int64 \n",
      "\n",
      "Country DataFrame\n",
      "Index(['korea', 'japan', 'china', 'usa'], dtype='object')\n",
      "Index(['population', 'gdp', 'gdp per capita'], dtype='object')\n"
     ]
    }
   ],
   "source": [
    "import numpy as np\n",
    "import pandas as pd\n",
    "\n",
    "# 두 개의 시리즈 데이터가 있습니다.\n",
    "print(\"Population series data:\")\n",
    "population_dict = {\n",
    "    'korea': 5180,\n",
    "    'japan': 12718,\n",
    "    'china': 141500,\n",
    "    'usa': 32676\n",
    "}\n",
    "population = pd.Series(population_dict)\n",
    "print(population, \"\\n\")\n",
    "\n",
    "print(\"GDP series data:\")\n",
    "gdp_dict = {\n",
    "    'korea': 169320000,\n",
    "    'japan': 516700000,\n",
    "    'china': 1409250000,\n",
    "    'usa': 2041280000,\n",
    "}\n",
    "gdp = pd.Series(gdp_dict)\n",
    "print(gdp, \"\\n\")\n",
    "\n",
    "\n",
    "# 이곳에서 2개의 시리즈 값이 들어간 데이터프레임을 생성합니다.\n",
    "print(\"Country DataFrame\")\n",
    "\n",
    "country = pd.DataFrame({\n",
    "    'population' : population,\n",
    "    'gdp' : gdp\n",
    "})\n",
    "\n",
    "\n",
    "# 데이터 프레임에 gdp per capita 칼럼을 추가하고 출력합니다.\n",
    "gdp_per_capita = country['gdp'] / country['population']\n",
    "country['gdp per capita'] = gdp_per_capita\n",
    "\n",
    "\n",
    "# 데이터 프레임을 만들었다면, index와 column도 각각 확인해보세요.\n",
    "print(country.index)\n",
    "print(country.columns)\n",
    "\n"
   ]
  },
  {
   "cell_type": "code",
   "execution_count": null,
   "id": "51660501",
   "metadata": {},
   "outputs": [],
   "source": []
  },
  {
   "cell_type": "code",
   "execution_count": null,
   "id": "3fe7201a",
   "metadata": {},
   "outputs": [],
   "source": []
  },
  {
   "cell_type": "code",
   "execution_count": null,
   "id": "22fb7670",
   "metadata": {},
   "outputs": [],
   "source": []
  },
  {
   "cell_type": "code",
   "execution_count": null,
   "id": "0ad4415c",
   "metadata": {},
   "outputs": [],
   "source": []
  },
  {
   "cell_type": "code",
   "execution_count": null,
   "id": "99e2bcf7",
   "metadata": {},
   "outputs": [],
   "source": []
  }
 ],
 "metadata": {
  "kernelspec": {
   "display_name": "Python 3 (ipykernel)",
   "language": "python",
   "name": "python3"
  },
  "language_info": {
   "codemirror_mode": {
    "name": "ipython",
    "version": 3
   },
   "file_extension": ".py",
   "mimetype": "text/x-python",
   "name": "python",
   "nbconvert_exporter": "python",
   "pygments_lexer": "ipython3",
   "version": "3.9.7"
  }
 },
 "nbformat": 4,
 "nbformat_minor": 5
}
