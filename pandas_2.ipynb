{
 "cells": [
  {
   "cell_type": "markdown",
   "id": "60fb6e41",
   "metadata": {},
   "source": [
    "# Indexing/Slicing\n",
    "\n",
    ".loc : 명시적인 인덱스를 참조하는 인덱싱/슬라이싱"
   ]
  },
  {
   "cell_type": "code",
   "execution_count": 17,
   "id": "0882a3f9",
   "metadata": {},
   "outputs": [
    {
     "name": "stdout",
     "output_type": "stream",
     "text": [
      "       population         gdp  gdp per capita\n",
      "korea        5180   169320000    32687.258687\n",
      "japan       12718   516700000    40627.457147\n",
      "china      141500  1409250000     9959.363958\n",
      "usa         32676  2041280000    62470.314604\n",
      "--------------------------------------------------------\n",
      "population        1.415000e+05\n",
      "gdp               1.409250e+09\n",
      "gdp per capita    9.959364e+03\n",
      "Name: china, dtype: float64\n",
      "--------------------------------------------------------\n",
      "       population\n",
      "korea        5180\n",
      "japan       12718\n"
     ]
    }
   ],
   "source": [
    "print(country)\n",
    "# 데이터 프레임을 만들었다면, index와 column도 각각 확인해보세요.\n",
    "print(\"--------------------------------------------------------\")\n",
    "print(country.loc['china'])\n",
    "print(\"--------------------------------------------------------\")\n",
    "\n",
    "print(country.loc['korea':'japan',:'population'])# 순서 주의"
   ]
  },
  {
   "cell_type": "markdown",
   "id": "b41a2bf2",
   "metadata": {},
   "source": [
    ".iloc : 파이썬 스타일 정수 인덱스 인덱싱/슬라이싱"
   ]
  },
  {
   "cell_type": "code",
   "execution_count": 18,
   "id": "b3a347cc",
   "metadata": {},
   "outputs": [
    {
     "name": "stdout",
     "output_type": "stream",
     "text": [
      "population        5.180000e+03\n",
      "gdp               1.693200e+08\n",
      "gdp per capita    3.268726e+04\n",
      "Name: korea, dtype: float64\n",
      "       population         gdp\n",
      "japan       12718   516700000\n",
      "china      141500  1409250000\n"
     ]
    }
   ],
   "source": [
    "print(country.iloc[0])\n",
    "print(country.iloc[1:3, :2])"
   ]
  },
  {
   "cell_type": "markdown",
   "id": "fd6d28a6",
   "metadata": {},
   "source": [
    "리스트로 추가 or 딕셔너리로 추가"
   ]
  },
  {
   "cell_type": "code",
   "execution_count": 22,
   "id": "c9d472d5",
   "metadata": {},
   "outputs": [
    {
     "name": "stdout",
     "output_type": "stream",
     "text": [
      "    이름  나이  주소\n",
      "0  임원균  26  서울\n",
      "1   영희  25  인천\n"
     ]
    }
   ],
   "source": [
    "dataframe= pd.DataFrame(columns=['이름','나이','주소'])\n",
    "dataframe.loc[0] = ['임원균', '26', '서울']\n",
    "dataframe.loc[1] = {'이름':'철수', '나이':'25', '주소':'인천'}\n",
    "dataframe.loc[1, '이름'] = '영희'\n",
    "print(dataframe)"
   ]
  },
  {
   "cell_type": "markdown",
   "id": "f2e5e85f",
   "metadata": {},
   "source": [
    "새로운 컬럼추가"
   ]
  },
  {
   "cell_type": "code",
   "execution_count": 27,
   "id": "a48f3ab3",
   "metadata": {},
   "outputs": [
    {
     "name": "stdout",
     "output_type": "stream",
     "text": [
      "    이름  나이  주소         전화번호\n",
      "0  임원균  26  서울  01045283518\n",
      "1   영희  25  인천          NaN\n"
     ]
    },
    {
     "data": {
      "text/plain": [
       "2"
      ]
     },
     "execution_count": 27,
     "metadata": {},
     "output_type": "execute_result"
    }
   ],
   "source": [
    "import numpy as np\n",
    "dataframe['전화번호'] = np.nan\n",
    "dataframe.loc[0,'전화번호']= '01045283518'\n",
    "print(dataframe)\n",
    "len(dataframe)"
   ]
  },
  {
   "cell_type": "markdown",
   "id": "d163106f",
   "metadata": {},
   "source": [
    "컬럼 선택하기<br>\n",
    "컬럼 이름이 하나만 있다면 Series<br>\n",
    "리스트로 들어가 있다면 DataFrame"
   ]
  },
  {
   "cell_type": "code",
   "execution_count": 29,
   "id": "e975df87",
   "metadata": {},
   "outputs": [
    {
     "data": {
      "text/html": [
       "<div>\n",
       "<style scoped>\n",
       "    .dataframe tbody tr th:only-of-type {\n",
       "        vertical-align: middle;\n",
       "    }\n",
       "\n",
       "    .dataframe tbody tr th {\n",
       "        vertical-align: top;\n",
       "    }\n",
       "\n",
       "    .dataframe thead th {\n",
       "        text-align: right;\n",
       "    }\n",
       "</style>\n",
       "<table border=\"1\" class=\"dataframe\">\n",
       "  <thead>\n",
       "    <tr style=\"text-align: right;\">\n",
       "      <th></th>\n",
       "      <th>이름</th>\n",
       "      <th>주소</th>\n",
       "      <th>나이</th>\n",
       "    </tr>\n",
       "  </thead>\n",
       "  <tbody>\n",
       "    <tr>\n",
       "      <th>0</th>\n",
       "      <td>임원균</td>\n",
       "      <td>서울</td>\n",
       "      <td>26</td>\n",
       "    </tr>\n",
       "    <tr>\n",
       "      <th>1</th>\n",
       "      <td>영희</td>\n",
       "      <td>인천</td>\n",
       "      <td>25</td>\n",
       "    </tr>\n",
       "  </tbody>\n",
       "</table>\n",
       "</div>"
      ],
      "text/plain": [
       "    이름  주소  나이\n",
       "0  임원균  서울  26\n",
       "1   영희  인천  25"
      ]
     },
     "execution_count": 29,
     "metadata": {},
     "output_type": "execute_result"
    }
   ],
   "source": [
    "dataframe['이름']\n",
    "dataframe[['이름', '주소', '나이']]"
   ]
  },
  {
   "cell_type": "code",
   "execution_count": 31,
   "id": "8f7a372d",
   "metadata": {},
   "outputs": [
    {
     "name": "stdout",
     "output_type": "stream",
     "text": [
      "Country DataFrame\n",
      "              gdp  population  gdp per capita\n",
      "china  1409250000      141500     9959.363958\n",
      "japan   516700000       12718    40627.457147\n",
      "korea   169320000        5180    32687.258687\n",
      "usa    2041280000       32676    62470.314604 \n",
      "\n",
      "gdp               1.409250e+09\n",
      "population        1.415000e+05\n",
      "gdp per capita    9.959364e+03\n",
      "Name: china, dtype: float64\n",
      "              gdp  population  gdp per capita\n",
      "japan   516700000       12718    40627.457147\n",
      "korea   169320000        5180    32687.258687\n",
      "usa    2041280000       32676    62470.314604\n"
     ]
    }
   ],
   "source": [
    "import numpy as np\n",
    "import pandas as pd\n",
    "\n",
    "# 첫번째 컬럼을 인덱스로 country.csv 파일 읽어오기.\n",
    "print(\"Country DataFrame\")\n",
    "country = pd.read_csv(\"./country.csv\", index_col=0)\n",
    "print(country, \"\\n\")\n",
    "\n",
    "# 명시적 인덱싱을 사용하여 데이터프레임의 \"china\" 인덱스를 출력해봅시다.\n",
    "\n",
    "print(country.loc['china'])\n",
    "# # 정수 인덱싱을 사용하여 데이터프레임의 1번째부터 3번째 인덱스를 출력해봅시다.\n",
    "print(country.iloc[1:4])\n",
    "\n"
   ]
  },
  {
   "cell_type": "code",
   "execution_count": null,
   "id": "f0b669b9",
   "metadata": {},
   "outputs": [],
   "source": []
  },
  {
   "cell_type": "code",
   "execution_count": null,
   "id": "204e31b1",
   "metadata": {},
   "outputs": [],
   "source": []
  },
  {
   "cell_type": "code",
   "execution_count": null,
   "id": "f2e2af7a",
   "metadata": {},
   "outputs": [],
   "source": []
  },
  {
   "cell_type": "code",
   "execution_count": null,
   "id": "25325559",
   "metadata": {},
   "outputs": [],
   "source": []
  }
 ],
 "metadata": {
  "kernelspec": {
   "display_name": "Python 3 (ipykernel)",
   "language": "python",
   "name": "python3"
  },
  "language_info": {
   "codemirror_mode": {
    "name": "ipython",
    "version": 3
   },
   "file_extension": ".py",
   "mimetype": "text/x-python",
   "name": "python",
   "nbconvert_exporter": "python",
   "pygments_lexer": "ipython3",
   "version": "3.9.7"
  }
 },
 "nbformat": 4,
 "nbformat_minor": 5
}
