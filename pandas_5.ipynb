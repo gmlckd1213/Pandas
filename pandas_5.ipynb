{
 "cells": [
  {
   "cell_type": "markdown",
   "id": "aaa5b70a",
   "metadata": {},
   "source": [
    "# 그룹으로 묶기"
   ]
  },
  {
   "cell_type": "markdown",
   "id": "e2f4e6dd",
   "metadata": {},
   "source": [
    "## groupby\n",
    "간단한 집계를 넘어서서 조건부로 집계하고 싶은 경우"
   ]
  },
  {
   "cell_type": "code",
   "execution_count": 8,
   "id": "2c68a2d0",
   "metadata": {},
   "outputs": [
    {
     "name": "stdout",
     "output_type": "stream",
     "text": [
      "  key  data1  data2\n",
      "0   A      1      3\n",
      "1   B      2      5\n",
      "2   C      3      2\n",
      "3   A      1      4\n",
      "4   B      2      0\n",
      "5   C      3      0\n",
      "     data1  data2\n",
      "key              \n",
      "A        2      7\n",
      "B        4      5\n",
      "C        6      2\n",
      "           data2\n",
      "key data1       \n",
      "A   1          7\n",
      "B   2          5\n",
      "C   3          2\n"
     ]
    }
   ],
   "source": [
    "df = pd.DataFrame({'key': ['A','B','C','A','B','C'],\n",
    "                  'data1': [1,2,3,1,2,3], \n",
    "                'data2':np.random.randint(0,6,6)})\n",
    "print(df)\n",
    "print(df.groupby('key').sum())\n",
    "print(df.groupby(['key','data1']).sum())\n"
   ]
  },
  {
   "cell_type": "markdown",
   "id": "a14a471e",
   "metadata": {},
   "source": [
    "## aggregate\n",
    "groupby를 통해서 집계를 한번에 계산하는 방법"
   ]
  },
  {
   "cell_type": "code",
   "execution_count": 19,
   "id": "1adf3782",
   "metadata": {},
   "outputs": [
    {
     "name": "stdout",
     "output_type": "stream",
     "text": [
      "    data1            data2           \n",
      "      min median max   min median max\n",
      "key                                  \n",
      "A       1    1.0   1     3    3.5   4\n",
      "B       2    2.0   2     0    2.5   5\n",
      "C       3    3.0   3     0    1.0   2\n",
      "     data1  data2\n",
      "key              \n",
      "A        1      7\n",
      "B        2      5\n",
      "C        3      2\n"
     ]
    }
   ],
   "source": [
    "print(df.groupby('key').aggregate([min, np.median, 'max'])) # ''안에 넣어도되고 그냥 써도되고 numpy활용도 가능\n",
    "print(df.groupby('key').aggregate({'data1': min, 'data2': sum}))"
   ]
  },
  {
   "cell_type": "markdown",
   "id": "cea8fbf2",
   "metadata": {},
   "source": [
    "## filter\n",
    "groupby를 통해서 그룹 속성을 기준으로 데이터 필터링"
   ]
  },
  {
   "cell_type": "code",
   "execution_count": 23,
   "id": "ea9e3df2",
   "metadata": {},
   "outputs": [
    {
     "name": "stdout",
     "output_type": "stream",
     "text": [
      "     data1  data2\n",
      "key              \n",
      "A      1.0    3.5\n",
      "B      2.0    2.5\n",
      "C      3.0    1.0\n",
      "  key  data1  data2\n",
      "0   A      1      3\n",
      "3   A      1      4\n"
     ]
    }
   ],
   "source": [
    "def filter_by_mean(x):\n",
    "    return x['data2'].mean()>3\n",
    "print(df.groupby('key').mean())\n",
    "print(df.groupby('key').filter(filter_by_mean))"
   ]
  },
  {
   "cell_type": "markdown",
   "id": "1185a23a",
   "metadata": {},
   "source": [
    "## apply\n",
    "groupby를 통해서 묶인 데이터에 함수 적용"
   ]
  },
  {
   "cell_type": "code",
   "execution_count": 26,
   "id": "5abbf96c",
   "metadata": {},
   "outputs": [
    {
     "data": {
      "text/html": [
       "<div>\n",
       "<style scoped>\n",
       "    .dataframe tbody tr th:only-of-type {\n",
       "        vertical-align: middle;\n",
       "    }\n",
       "\n",
       "    .dataframe tbody tr th {\n",
       "        vertical-align: top;\n",
       "    }\n",
       "\n",
       "    .dataframe thead th {\n",
       "        text-align: right;\n",
       "    }\n",
       "</style>\n",
       "<table border=\"1\" class=\"dataframe\">\n",
       "  <thead>\n",
       "    <tr style=\"text-align: right;\">\n",
       "      <th></th>\n",
       "      <th>data1</th>\n",
       "      <th>data2</th>\n",
       "    </tr>\n",
       "    <tr>\n",
       "      <th>key</th>\n",
       "      <th></th>\n",
       "      <th></th>\n",
       "    </tr>\n",
       "  </thead>\n",
       "  <tbody>\n",
       "    <tr>\n",
       "      <th>A</th>\n",
       "      <td>0</td>\n",
       "      <td>1</td>\n",
       "    </tr>\n",
       "    <tr>\n",
       "      <th>B</th>\n",
       "      <td>0</td>\n",
       "      <td>5</td>\n",
       "    </tr>\n",
       "    <tr>\n",
       "      <th>C</th>\n",
       "      <td>0</td>\n",
       "      <td>2</td>\n",
       "    </tr>\n",
       "  </tbody>\n",
       "</table>\n",
       "</div>"
      ],
      "text/plain": [
       "     data1  data2\n",
       "key              \n",
       "A        0      1\n",
       "B        0      5\n",
       "C        0      2"
      ]
     },
     "execution_count": 26,
     "metadata": {},
     "output_type": "execute_result"
    }
   ],
   "source": [
    "df.groupby('key').apply(lambda x : x.max() -x.min())"
   ]
  },
  {
   "cell_type": "markdown",
   "id": "effda497",
   "metadata": {},
   "source": [
    "## get_group\n",
    "groupby로 묶인 데이터에서 key값으로 데이터를 가져올 수 있다.\n",
    "\n",
    "```python\n",
    "df.groupby(\"시도\").get_group(\"충남\")\n",
    "\n",
    "```"
   ]
  },
  {
   "cell_type": "markdown",
   "id": "87b6ffe6",
   "metadata": {},
   "source": [
    "# MultiIndex\n",
    "\n",
    "인덱스를 계층으로 만들 수 있다"
   ]
  },
  {
   "cell_type": "code",
   "execution_count": 29,
   "id": "25f6b757",
   "metadata": {},
   "outputs": [
    {
     "data": {
      "text/html": [
       "<div>\n",
       "<style scoped>\n",
       "    .dataframe tbody tr th:only-of-type {\n",
       "        vertical-align: middle;\n",
       "    }\n",
       "\n",
       "    .dataframe tbody tr th {\n",
       "        vertical-align: top;\n",
       "    }\n",
       "\n",
       "    .dataframe thead th {\n",
       "        text-align: right;\n",
       "    }\n",
       "</style>\n",
       "<table border=\"1\" class=\"dataframe\">\n",
       "  <thead>\n",
       "    <tr style=\"text-align: right;\">\n",
       "      <th></th>\n",
       "      <th></th>\n",
       "      <th>data1</th>\n",
       "      <th>data2</th>\n",
       "    </tr>\n",
       "  </thead>\n",
       "  <tbody>\n",
       "    <tr>\n",
       "      <th rowspan=\"2\" valign=\"top\">A</th>\n",
       "      <th>1</th>\n",
       "      <td>1.972367</td>\n",
       "      <td>-0.382492</td>\n",
       "    </tr>\n",
       "    <tr>\n",
       "      <th>2</th>\n",
       "      <td>1.420451</td>\n",
       "      <td>-0.089659</td>\n",
       "    </tr>\n",
       "    <tr>\n",
       "      <th rowspan=\"2\" valign=\"top\">B</th>\n",
       "      <th>1</th>\n",
       "      <td>1.070530</td>\n",
       "      <td>-0.120309</td>\n",
       "    </tr>\n",
       "    <tr>\n",
       "      <th>2</th>\n",
       "      <td>-2.020070</td>\n",
       "      <td>-0.619692</td>\n",
       "    </tr>\n",
       "  </tbody>\n",
       "</table>\n",
       "</div>"
      ],
      "text/plain": [
       "        data1     data2\n",
       "A 1  1.972367 -0.382492\n",
       "  2  1.420451 -0.089659\n",
       "B 1  1.070530 -0.120309\n",
       "  2 -2.020070 -0.619692"
      ]
     },
     "execution_count": 29,
     "metadata": {},
     "output_type": "execute_result"
    }
   ],
   "source": [
    "df = pd.DataFrame(\n",
    "np.random.randn(4,2),\n",
    "index=[['A','A','B','B'], [1,2,1,2]],\n",
    "columns=['data1','data2'])\n",
    "df"
   ]
  },
  {
   "cell_type": "markdown",
   "id": "652b41ba",
   "metadata": {},
   "source": [
    "열 인덱스도 계층적으로 만들 수 있다."
   ]
  },
  {
   "cell_type": "code",
   "execution_count": 31,
   "id": "8f0a2deb",
   "metadata": {},
   "outputs": [
    {
     "data": {
      "text/html": [
       "<div>\n",
       "<style scoped>\n",
       "    .dataframe tbody tr th:only-of-type {\n",
       "        vertical-align: middle;\n",
       "    }\n",
       "\n",
       "    .dataframe tbody tr th {\n",
       "        vertical-align: top;\n",
       "    }\n",
       "\n",
       "    .dataframe thead tr th {\n",
       "        text-align: left;\n",
       "    }\n",
       "</style>\n",
       "<table border=\"1\" class=\"dataframe\">\n",
       "  <thead>\n",
       "    <tr>\n",
       "      <th></th>\n",
       "      <th colspan=\"2\" halign=\"left\">A</th>\n",
       "      <th colspan=\"2\" halign=\"left\">B</th>\n",
       "    </tr>\n",
       "    <tr>\n",
       "      <th></th>\n",
       "      <th>1</th>\n",
       "      <th>2</th>\n",
       "      <th>1</th>\n",
       "      <th>2</th>\n",
       "    </tr>\n",
       "  </thead>\n",
       "  <tbody>\n",
       "    <tr>\n",
       "      <th>0</th>\n",
       "      <td>-0.554181</td>\n",
       "      <td>-0.181127</td>\n",
       "      <td>-0.999303</td>\n",
       "      <td>0.930327</td>\n",
       "    </tr>\n",
       "    <tr>\n",
       "      <th>1</th>\n",
       "      <td>0.994620</td>\n",
       "      <td>-0.881756</td>\n",
       "      <td>0.580017</td>\n",
       "      <td>-0.927154</td>\n",
       "    </tr>\n",
       "    <tr>\n",
       "      <th>2</th>\n",
       "      <td>-0.246537</td>\n",
       "      <td>0.988194</td>\n",
       "      <td>-0.192014</td>\n",
       "      <td>-0.071777</td>\n",
       "    </tr>\n",
       "    <tr>\n",
       "      <th>3</th>\n",
       "      <td>-1.437825</td>\n",
       "      <td>0.814913</td>\n",
       "      <td>0.193076</td>\n",
       "      <td>1.059731</td>\n",
       "    </tr>\n",
       "  </tbody>\n",
       "</table>\n",
       "</div>"
      ],
      "text/plain": [
       "          A                   B          \n",
       "          1         2         1         2\n",
       "0 -0.554181 -0.181127 -0.999303  0.930327\n",
       "1  0.994620 -0.881756  0.580017 -0.927154\n",
       "2 -0.246537  0.988194 -0.192014 -0.071777\n",
       "3 -1.437825  0.814913  0.193076  1.059731"
      ]
     },
     "execution_count": 31,
     "metadata": {},
     "output_type": "execute_result"
    }
   ],
   "source": [
    "df= pd.DataFrame(\n",
    "    np.random.randn(4, 4),\n",
    "    columns=[[\"A\", \"A\", \"B\", \"B\"], [\"1\", \"2\", \"1\", \"2\"]])\n",
    "df"
   ]
  },
  {
   "cell_type": "markdown",
   "id": "b8d0a06f",
   "metadata": {},
   "source": [
    "다중 인덱스 컬럼의 경우 인덱싱은 계층적으로 한다.<br>\n",
    "인덱스 탐색의 경우에는 loc, iloc 를 사용가능하다."
   ]
  },
  {
   "cell_type": "code",
   "execution_count": 34,
   "id": "686a0066",
   "metadata": {},
   "outputs": [
    {
     "name": "stdout",
     "output_type": "stream",
     "text": [
      "          1         2\n",
      "0 -0.554181 -0.181127\n",
      "1  0.994620 -0.881756\n",
      "2 -0.246537  0.988194\n",
      "3 -1.437825  0.814913\n",
      "\n",
      "0   -0.554181\n",
      "1    0.994620\n",
      "2   -0.246537\n",
      "3   -1.437825\n",
      "Name: 1, dtype: float64\n"
     ]
    }
   ],
   "source": [
    "print(df[\"A\"])\n",
    "print()\n",
    "print(df[\"A\"][\"1\"])"
   ]
  },
  {
   "cell_type": "markdown",
   "id": "3d1fe812",
   "metadata": {},
   "source": [
    "# pivot_table\n",
    "\n",
    "데이터에서 필요한 자료만 뽑아서 새롭게 요약, 분석 할 수 있는 기능 엑셀에서의 피봇 테이블과 같다.<br>\n",
    "\n",
    "- Index : 행 인덱스로 들어갈 key\n",
    "- Column : 열 인덱스로 라벨링될 값\n",
    "- Value : 분석할 데이터"
   ]
  },
  {
   "cell_type": "code",
   "execution_count": 37,
   "id": "74a2c96f",
   "metadata": {},
   "outputs": [
    {
     "data": {
      "text/html": [
       "<div>\n",
       "<style scoped>\n",
       "    .dataframe tbody tr th:only-of-type {\n",
       "        vertical-align: middle;\n",
       "    }\n",
       "\n",
       "    .dataframe tbody tr th {\n",
       "        vertical-align: top;\n",
       "    }\n",
       "\n",
       "    .dataframe thead th {\n",
       "        text-align: right;\n",
       "    }\n",
       "</style>\n",
       "<table border=\"1\" class=\"dataframe\">\n",
       "  <thead>\n",
       "    <tr style=\"text-align: right;\">\n",
       "      <th></th>\n",
       "      <th>survived</th>\n",
       "      <th>pclass</th>\n",
       "      <th>sex</th>\n",
       "      <th>age</th>\n",
       "      <th>sibsp</th>\n",
       "      <th>parch</th>\n",
       "      <th>fare</th>\n",
       "      <th>embarked</th>\n",
       "      <th>class</th>\n",
       "      <th>who</th>\n",
       "    </tr>\n",
       "  </thead>\n",
       "  <tbody>\n",
       "    <tr>\n",
       "      <th>0</th>\n",
       "      <td>0</td>\n",
       "      <td>3</td>\n",
       "      <td>male</td>\n",
       "      <td>22.0</td>\n",
       "      <td>1</td>\n",
       "      <td>0</td>\n",
       "      <td>7.2500</td>\n",
       "      <td>S</td>\n",
       "      <td>Third</td>\n",
       "      <td>man</td>\n",
       "    </tr>\n",
       "    <tr>\n",
       "      <th>1</th>\n",
       "      <td>1</td>\n",
       "      <td>1</td>\n",
       "      <td>female</td>\n",
       "      <td>38.0</td>\n",
       "      <td>1</td>\n",
       "      <td>0</td>\n",
       "      <td>71.2833</td>\n",
       "      <td>C</td>\n",
       "      <td>First</td>\n",
       "      <td>woman</td>\n",
       "    </tr>\n",
       "    <tr>\n",
       "      <th>2</th>\n",
       "      <td>1</td>\n",
       "      <td>3</td>\n",
       "      <td>female</td>\n",
       "      <td>26.0</td>\n",
       "      <td>0</td>\n",
       "      <td>0</td>\n",
       "      <td>7.9250</td>\n",
       "      <td>S</td>\n",
       "      <td>Third</td>\n",
       "      <td>woman</td>\n",
       "    </tr>\n",
       "    <tr>\n",
       "      <th>3</th>\n",
       "      <td>1</td>\n",
       "      <td>1</td>\n",
       "      <td>female</td>\n",
       "      <td>35.0</td>\n",
       "      <td>1</td>\n",
       "      <td>0</td>\n",
       "      <td>53.1000</td>\n",
       "      <td>S</td>\n",
       "      <td>First</td>\n",
       "      <td>woman</td>\n",
       "    </tr>\n",
       "    <tr>\n",
       "      <th>4</th>\n",
       "      <td>0</td>\n",
       "      <td>3</td>\n",
       "      <td>male</td>\n",
       "      <td>35.0</td>\n",
       "      <td>0</td>\n",
       "      <td>0</td>\n",
       "      <td>8.0500</td>\n",
       "      <td>S</td>\n",
       "      <td>Third</td>\n",
       "      <td>man</td>\n",
       "    </tr>\n",
       "  </tbody>\n",
       "</table>\n",
       "</div>"
      ],
      "text/plain": [
       "   survived  pclass     sex   age  sibsp  parch     fare embarked  class  \\\n",
       "0         0       3    male  22.0      1      0   7.2500        S  Third   \n",
       "1         1       1  female  38.0      1      0  71.2833        C  First   \n",
       "2         1       3  female  26.0      0      0   7.9250        S  Third   \n",
       "3         1       1  female  35.0      1      0  53.1000        S  First   \n",
       "4         0       3    male  35.0      0      0   8.0500        S  Third   \n",
       "\n",
       "     who  \n",
       "0    man  \n",
       "1  woman  \n",
       "2  woman  \n",
       "3  woman  \n",
       "4    man  "
      ]
     },
     "execution_count": 37,
     "metadata": {},
     "output_type": "execute_result"
    }
   ],
   "source": [
    "df = pd.DataFrame({'survived': [0,1,1,1,0],\n",
    "                  'pclass' : [3,1,3,1,3],\n",
    "                   'sex' : ['male','female','female','female','male'],\n",
    "                   'age' : [22.0, 38.0, 26.0, 35.0, 35.0],\n",
    "                   'sibsp' : [1,1,0,1,0],\n",
    "                   'parch' : [0,0,0,0,0],\n",
    "                   'fare' : [7.2500,71.2833,7.9250,53.100,8.0500],\n",
    "                   'embarked' : ['S', 'C', 'S','S','S'],\n",
    "                   'class' : [\"Third\",\"First\",\"Third\",\"First\",\"Third\"],\n",
    "                   'who' : ['man','woman','woman','woman','man']\n",
    "                  })\n",
    "df"
   ]
  },
  {
   "cell_type": "code",
   "execution_count": 38,
   "id": "43c2e9c7",
   "metadata": {},
   "outputs": [
    {
     "data": {
      "text/html": [
       "<div>\n",
       "<style scoped>\n",
       "    .dataframe tbody tr th:only-of-type {\n",
       "        vertical-align: middle;\n",
       "    }\n",
       "\n",
       "    .dataframe tbody tr th {\n",
       "        vertical-align: top;\n",
       "    }\n",
       "\n",
       "    .dataframe thead th {\n",
       "        text-align: right;\n",
       "    }\n",
       "</style>\n",
       "<table border=\"1\" class=\"dataframe\">\n",
       "  <thead>\n",
       "    <tr style=\"text-align: right;\">\n",
       "      <th>class</th>\n",
       "      <th>First</th>\n",
       "      <th>Third</th>\n",
       "    </tr>\n",
       "    <tr>\n",
       "      <th>sex</th>\n",
       "      <th></th>\n",
       "      <th></th>\n",
       "    </tr>\n",
       "  </thead>\n",
       "  <tbody>\n",
       "    <tr>\n",
       "      <th>female</th>\n",
       "      <td>1.0</td>\n",
       "      <td>1.0</td>\n",
       "    </tr>\n",
       "    <tr>\n",
       "      <th>male</th>\n",
       "      <td>NaN</td>\n",
       "      <td>0.0</td>\n",
       "    </tr>\n",
       "  </tbody>\n",
       "</table>\n",
       "</div>"
      ],
      "text/plain": [
       "class   First  Third\n",
       "sex                 \n",
       "female    1.0    1.0\n",
       "male      NaN    0.0"
      ]
     },
     "execution_count": 38,
     "metadata": {},
     "output_type": "execute_result"
    }
   ],
   "source": [
    "df.pivot_table(\n",
    "    index='sex', columns='class', values='survived',\n",
    "    aggfunc=np.mean)"
   ]
  },
  {
   "cell_type": "code",
   "execution_count": 41,
   "id": "a2e53c64",
   "metadata": {},
   "outputs": [
    {
     "name": "stdout",
     "output_type": "stream",
     "text": [
      "   일차   구분           이름  나이      성별\n",
      "0   1  Rat       Stevne   3    Male\n",
      "1   1  Rat  Christopher   3    Male\n",
      "2   1  Rat      Barbare   1  Female\n",
      "3   1  Rat        Marie   1  Female\n",
      "4   1  Rat     Elsapeth   1  Female\n",
      "          나이\n",
      "일차          \n",
      "3   9.333333\n",
      "4   8.000000\n",
      "5   8.750000\n",
      "6   8.733333\n",
      "성별    Female      Male\n",
      "일차                    \n",
      "3   9.500000  9.000000\n",
      "4   9.000000  6.333333\n",
      "5   8.666667  8.833333\n",
      "6   9.411765  7.846154\n"
     ]
    }
   ],
   "source": [
    "\n",
    "def main():\n",
    "    df = pd.read_csv(\"./the_pied_piper_of_hamelin.csv\")\n",
    "    print(df.head())\n",
    "    \n",
    "    children = df[df[\"구분\"] == \"Child\"]\n",
    "    print(children.groupby(\"일차\").mean())\n",
    "    \n",
    "    df2=children.pivot_table(index=\"일차\", columns=\"성별\", values=\"나이\", aggfunc=np.mean)\n",
    "    print(df2)\n",
    "    \n",
    "if __name__ == \"__main__\":\n",
    "    main()\n"
   ]
  },
  {
   "cell_type": "code",
   "execution_count": null,
   "id": "63b9939d",
   "metadata": {},
   "outputs": [],
   "source": []
  }
 ],
 "metadata": {
  "kernelspec": {
   "display_name": "Python 3 (ipykernel)",
   "language": "python",
   "name": "python3"
  },
  "language_info": {
   "codemirror_mode": {
    "name": "ipython",
    "version": 3
   },
   "file_extension": ".py",
   "mimetype": "text/x-python",
   "name": "python",
   "nbconvert_exporter": "python",
   "pygments_lexer": "ipython3",
   "version": "3.9.7"
  }
 },
 "nbformat": 4,
 "nbformat_minor": 5
}
